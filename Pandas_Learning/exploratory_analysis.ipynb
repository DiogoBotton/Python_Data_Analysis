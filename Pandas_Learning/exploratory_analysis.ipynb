{
 "cells": [
  {
   "cell_type": "markdown",
   "metadata": {},
   "source": [
    "Análise Exploratória"
   ]
  },
  {
   "cell_type": "code",
   "execution_count": 1,
   "metadata": {},
   "outputs": [],
   "source": [
    "import pandas as pd\n",
    "\n",
    "dados = pd.read_csv('aluguel.csv', sep=';') # delimiter=';' também funciona"
   ]
  },
  {
   "cell_type": "code",
   "execution_count": 2,
   "metadata": {},
   "outputs": [
    {
     "data": {
      "text/html": [
       "<div>\n",
       "<style scoped>\n",
       "    .dataframe tbody tr th:only-of-type {\n",
       "        vertical-align: middle;\n",
       "    }\n",
       "\n",
       "    .dataframe tbody tr th {\n",
       "        vertical-align: top;\n",
       "    }\n",
       "\n",
       "    .dataframe thead th {\n",
       "        text-align: right;\n",
       "    }\n",
       "</style>\n",
       "<table border=\"1\" class=\"dataframe\">\n",
       "  <thead>\n",
       "    <tr style=\"text-align: right;\">\n",
       "      <th></th>\n",
       "      <th>Quartos</th>\n",
       "      <th>Vagas</th>\n",
       "      <th>Suites</th>\n",
       "      <th>Area</th>\n",
       "      <th>Valor</th>\n",
       "      <th>Condominio</th>\n",
       "      <th>IPTU</th>\n",
       "    </tr>\n",
       "  </thead>\n",
       "  <tbody>\n",
       "    <tr>\n",
       "      <th>count</th>\n",
       "      <td>32960.000000</td>\n",
       "      <td>32960.000000</td>\n",
       "      <td>32960.000000</td>\n",
       "      <td>32960.000000</td>\n",
       "      <td>3.294300e+04</td>\n",
       "      <td>2.886700e+04</td>\n",
       "      <td>2.272300e+04</td>\n",
       "    </tr>\n",
       "    <tr>\n",
       "      <th>mean</th>\n",
       "      <td>1.771390</td>\n",
       "      <td>1.749059</td>\n",
       "      <td>0.665777</td>\n",
       "      <td>231.901547</td>\n",
       "      <td>1.295266e+04</td>\n",
       "      <td>2.388062e+03</td>\n",
       "      <td>2.364410e+03</td>\n",
       "    </tr>\n",
       "    <tr>\n",
       "      <th>std</th>\n",
       "      <td>1.717869</td>\n",
       "      <td>20.380402</td>\n",
       "      <td>1.176525</td>\n",
       "      <td>1135.254152</td>\n",
       "      <td>6.675220e+05</td>\n",
       "      <td>3.918496e+04</td>\n",
       "      <td>1.795641e+05</td>\n",
       "    </tr>\n",
       "    <tr>\n",
       "      <th>min</th>\n",
       "      <td>0.000000</td>\n",
       "      <td>0.000000</td>\n",
       "      <td>0.000000</td>\n",
       "      <td>0.000000</td>\n",
       "      <td>7.500000e+01</td>\n",
       "      <td>1.000000e+00</td>\n",
       "      <td>1.000000e+00</td>\n",
       "    </tr>\n",
       "    <tr>\n",
       "      <th>25%</th>\n",
       "      <td>0.000000</td>\n",
       "      <td>0.000000</td>\n",
       "      <td>0.000000</td>\n",
       "      <td>55.000000</td>\n",
       "      <td>1.500000e+03</td>\n",
       "      <td>5.900000e+02</td>\n",
       "      <td>1.100000e+02</td>\n",
       "    </tr>\n",
       "    <tr>\n",
       "      <th>50%</th>\n",
       "      <td>2.000000</td>\n",
       "      <td>1.000000</td>\n",
       "      <td>0.000000</td>\n",
       "      <td>87.000000</td>\n",
       "      <td>2.800000e+03</td>\n",
       "      <td>9.900000e+02</td>\n",
       "      <td>2.500000e+02</td>\n",
       "    </tr>\n",
       "    <tr>\n",
       "      <th>75%</th>\n",
       "      <td>3.000000</td>\n",
       "      <td>2.000000</td>\n",
       "      <td>1.000000</td>\n",
       "      <td>170.000000</td>\n",
       "      <td>6.500000e+03</td>\n",
       "      <td>1.800000e+03</td>\n",
       "      <td>6.970000e+02</td>\n",
       "    </tr>\n",
       "    <tr>\n",
       "      <th>max</th>\n",
       "      <td>100.000000</td>\n",
       "      <td>1966.000000</td>\n",
       "      <td>70.000000</td>\n",
       "      <td>90000.000000</td>\n",
       "      <td>1.200000e+08</td>\n",
       "      <td>6.552570e+06</td>\n",
       "      <td>2.705307e+07</td>\n",
       "    </tr>\n",
       "  </tbody>\n",
       "</table>\n",
       "</div>"
      ],
      "text/plain": [
       "            Quartos         Vagas        Suites          Area         Valor  \\\n",
       "count  32960.000000  32960.000000  32960.000000  32960.000000  3.294300e+04   \n",
       "mean       1.771390      1.749059      0.665777    231.901547  1.295266e+04   \n",
       "std        1.717869     20.380402      1.176525   1135.254152  6.675220e+05   \n",
       "min        0.000000      0.000000      0.000000      0.000000  7.500000e+01   \n",
       "25%        0.000000      0.000000      0.000000     55.000000  1.500000e+03   \n",
       "50%        2.000000      1.000000      0.000000     87.000000  2.800000e+03   \n",
       "75%        3.000000      2.000000      1.000000    170.000000  6.500000e+03   \n",
       "max      100.000000   1966.000000     70.000000  90000.000000  1.200000e+08   \n",
       "\n",
       "         Condominio          IPTU  \n",
       "count  2.886700e+04  2.272300e+04  \n",
       "mean   2.388062e+03  2.364410e+03  \n",
       "std    3.918496e+04  1.795641e+05  \n",
       "min    1.000000e+00  1.000000e+00  \n",
       "25%    5.900000e+02  1.100000e+02  \n",
       "50%    9.900000e+02  2.500000e+02  \n",
       "75%    1.800000e+03  6.970000e+02  \n",
       "max    6.552570e+06  2.705307e+07  "
      ]
     },
     "execution_count": 2,
     "metadata": {},
     "output_type": "execute_result"
    }
   ],
   "source": [
    "# O método \"describe\" realiza algumas estatísticas descritivas básicas dos dados em um DataFrame\n",
    "# As estatísticas descritivas que o método \"describe\" calcula são:\n",
    "# - contagem\n",
    "# - média\n",
    "# - desvio padrão\n",
    "# - mínimo\n",
    "# - quartis\n",
    "# - máximo\n",
    "dados.describe()"
   ]
  },
  {
   "cell_type": "markdown",
   "metadata": {},
   "source": [
    "Para o nosso contexto, precisamos remover os imóveis de tipo comercial, pois não se refere ao preço de aluguéis para casas residenciais"
   ]
  },
  {
   "cell_type": "code",
   "execution_count": 3,
   "metadata": {},
   "outputs": [
    {
     "data": {
      "text/plain": [
       "array(['Quitinete', 'Casa', 'Conjunto Comercial/Sala', 'Apartamento',\n",
       "       'Casa de Condomínio', 'Prédio Inteiro', 'Flat', 'Loja/Salão',\n",
       "       'Galpão/Depósito/Armazém', 'Casa Comercial', 'Casa de Vila',\n",
       "       'Terreno Padrão', 'Box/Garagem', 'Loft',\n",
       "       'Loja Shopping/ Ct Comercial', 'Chácara', 'Loteamento/Condomínio',\n",
       "       'Sítio', 'Pousada/Chalé', 'Studio', 'Hotel', 'Indústria'],\n",
       "      dtype=object)"
      ]
     },
     "execution_count": 3,
     "metadata": {},
     "output_type": "execute_result"
    }
   ],
   "source": [
    "dados.Tipo.unique() # Retorna todos os tipos únicos que temos na nossa base de dados"
   ]
  },
  {
   "cell_type": "code",
   "execution_count": 4,
   "metadata": {},
   "outputs": [],
   "source": [
    "imoveis_comerciais = ['Conjunto Comercial/Sala', \n",
    "                      'Prédio Inteiro', 'Loja/Salão', \n",
    "                      'Galpão/Depósito/Armazém', \n",
    "                      'Casa Comercial', 'Terreno Padrão',\n",
    "                      'Loja Shopping/ Ct Comercial',\n",
    "                      'Box/Garagem', 'Chácara',\n",
    "                      'Loteamento/Condomínio', 'Sítio',\n",
    "                      'Pousada/Chalé', 'Hotel', 'Indústria']"
   ]
  },
  {
   "cell_type": "code",
   "execution_count": 5,
   "metadata": {},
   "outputs": [],
   "source": [
    "# Query retorna linhas específicas de um DataFrame com base em uma condição específica\n",
    "# @ serve para adquirirmos uma variável\n",
    "\n",
    "# Queremos todos os tipos que NÃO estão dentro de imoveis_comerciais\n",
    "df = dados.query('@imoveis_comerciais not in Tipo')"
   ]
  },
  {
   "cell_type": "markdown",
   "metadata": {},
   "source": [
    "O processo de Análise Exploratória de Dados (EDA) consiste em buscar entender como são estruturados os dados que queremos analisar.\n",
    "\n",
    "É um processo de caráter investigativo, onde tentamos compreender várias características, como: os valores presentes nas colunas, os tipos de estrutura de dados, verificar se são dados qualitativos ou quantitativos, se há valores faltantes ou incomuns.\n",
    "\n",
    "Por isso, nesse momento, perguntas sobre os dados são sempre bem-vindas. Elas irão guiar todo o processo de análise, e, através das ferramentas disponíveis, como o nosso querido Pandas, iremos buscar por respostas.\n",
    "\n",
    "Algumas perguntas que podemos fazer nesse momento:\n",
    "\n",
    "1. Quais os valores médios de aluguel por tipo de imóvel?\n",
    "2. Qual o percentual de cada tipo de imóvel na nossa base de dados?"
   ]
  },
  {
   "cell_type": "markdown",
   "metadata": {},
   "source": [
    "### Pergunta 1: Quais os valores médios de aluguel por tipo de imóvel?"
   ]
  },
  {
   "cell_type": "code",
   "execution_count": 6,
   "metadata": {},
   "outputs": [
    {
     "data": {
      "text/html": [
       "<div>\n",
       "<style scoped>\n",
       "    .dataframe tbody tr th:only-of-type {\n",
       "        vertical-align: middle;\n",
       "    }\n",
       "\n",
       "    .dataframe tbody tr th {\n",
       "        vertical-align: top;\n",
       "    }\n",
       "\n",
       "    .dataframe thead th {\n",
       "        text-align: right;\n",
       "    }\n",
       "</style>\n",
       "<table border=\"1\" class=\"dataframe\">\n",
       "  <thead>\n",
       "    <tr style=\"text-align: right;\">\n",
       "      <th></th>\n",
       "      <th>Tipo</th>\n",
       "      <th>Bairro</th>\n",
       "      <th>Quartos</th>\n",
       "      <th>Vagas</th>\n",
       "      <th>Suites</th>\n",
       "      <th>Area</th>\n",
       "      <th>Valor</th>\n",
       "      <th>Condominio</th>\n",
       "      <th>IPTU</th>\n",
       "    </tr>\n",
       "  </thead>\n",
       "  <tbody>\n",
       "    <tr>\n",
       "      <th>0</th>\n",
       "      <td>Quitinete</td>\n",
       "      <td>Copacabana</td>\n",
       "      <td>1</td>\n",
       "      <td>0</td>\n",
       "      <td>0</td>\n",
       "      <td>40</td>\n",
       "      <td>1700.0</td>\n",
       "      <td>500.0</td>\n",
       "      <td>60.0</td>\n",
       "    </tr>\n",
       "    <tr>\n",
       "      <th>1</th>\n",
       "      <td>Casa</td>\n",
       "      <td>Jardim Botânico</td>\n",
       "      <td>2</td>\n",
       "      <td>0</td>\n",
       "      <td>1</td>\n",
       "      <td>100</td>\n",
       "      <td>7000.0</td>\n",
       "      <td>NaN</td>\n",
       "      <td>NaN</td>\n",
       "    </tr>\n",
       "    <tr>\n",
       "      <th>2</th>\n",
       "      <td>Conjunto Comercial/Sala</td>\n",
       "      <td>Barra da Tijuca</td>\n",
       "      <td>0</td>\n",
       "      <td>4</td>\n",
       "      <td>0</td>\n",
       "      <td>150</td>\n",
       "      <td>5200.0</td>\n",
       "      <td>4020.0</td>\n",
       "      <td>1111.0</td>\n",
       "    </tr>\n",
       "    <tr>\n",
       "      <th>3</th>\n",
       "      <td>Apartamento</td>\n",
       "      <td>Centro</td>\n",
       "      <td>1</td>\n",
       "      <td>0</td>\n",
       "      <td>0</td>\n",
       "      <td>15</td>\n",
       "      <td>800.0</td>\n",
       "      <td>390.0</td>\n",
       "      <td>20.0</td>\n",
       "    </tr>\n",
       "    <tr>\n",
       "      <th>4</th>\n",
       "      <td>Apartamento</td>\n",
       "      <td>Higienópolis</td>\n",
       "      <td>1</td>\n",
       "      <td>0</td>\n",
       "      <td>0</td>\n",
       "      <td>48</td>\n",
       "      <td>800.0</td>\n",
       "      <td>230.0</td>\n",
       "      <td>NaN</td>\n",
       "    </tr>\n",
       "  </tbody>\n",
       "</table>\n",
       "</div>"
      ],
      "text/plain": [
       "                      Tipo           Bairro  Quartos  Vagas  Suites  Area  \\\n",
       "0                Quitinete       Copacabana        1      0       0    40   \n",
       "1                     Casa  Jardim Botânico        2      0       1   100   \n",
       "2  Conjunto Comercial/Sala  Barra da Tijuca        0      4       0   150   \n",
       "3              Apartamento           Centro        1      0       0    15   \n",
       "4              Apartamento     Higienópolis        1      0       0    48   \n",
       "\n",
       "    Valor  Condominio    IPTU  \n",
       "0  1700.0       500.0    60.0  \n",
       "1  7000.0         NaN     NaN  \n",
       "2  5200.0      4020.0  1111.0  \n",
       "3   800.0       390.0    20.0  \n",
       "4   800.0       230.0     NaN  "
      ]
     },
     "execution_count": 6,
     "metadata": {},
     "output_type": "execute_result"
    }
   ],
   "source": [
    "# 1. Quais os valores médios de aluguel por tipo de imóvel?\n",
    "dados.head()"
   ]
  },
  {
   "cell_type": "code",
   "execution_count": 7,
   "metadata": {},
   "outputs": [
    {
     "name": "stdout",
     "output_type": "stream",
     "text": [
      "12952.659715265761\n"
     ]
    }
   ],
   "source": [
    "# A média geral dos valores de imóvel sem considerar o tipo do imóvel\n",
    "media_valor_geral = dados['Valor'].mean()\n",
    "\n",
    "print(media_valor_geral)"
   ]
  },
  {
   "cell_type": "markdown",
   "metadata": {},
   "source": [
    "Caso quisermos adquirir médias de todas as colunas numéricas do nosso dataframe, também é possível com o seguinte código abaixo:"
   ]
  },
  {
   "cell_type": "code",
   "execution_count": 8,
   "metadata": {},
   "outputs": [
    {
     "data": {
      "text/html": [
       "<div>\n",
       "<style scoped>\n",
       "    .dataframe tbody tr th:only-of-type {\n",
       "        vertical-align: middle;\n",
       "    }\n",
       "\n",
       "    .dataframe tbody tr th {\n",
       "        vertical-align: top;\n",
       "    }\n",
       "\n",
       "    .dataframe thead th {\n",
       "        text-align: right;\n",
       "    }\n",
       "</style>\n",
       "<table border=\"1\" class=\"dataframe\">\n",
       "  <thead>\n",
       "    <tr style=\"text-align: right;\">\n",
       "      <th></th>\n",
       "      <th>Quartos</th>\n",
       "      <th>Vagas</th>\n",
       "      <th>Suites</th>\n",
       "      <th>Area</th>\n",
       "      <th>Valor</th>\n",
       "      <th>Condominio</th>\n",
       "      <th>IPTU</th>\n",
       "    </tr>\n",
       "    <tr>\n",
       "      <th>Tipo</th>\n",
       "      <th></th>\n",
       "      <th></th>\n",
       "      <th></th>\n",
       "      <th></th>\n",
       "      <th></th>\n",
       "      <th></th>\n",
       "      <th></th>\n",
       "    </tr>\n",
       "  </thead>\n",
       "  <tbody>\n",
       "    <tr>\n",
       "      <th>Apartamento</th>\n",
       "      <td>2.481569</td>\n",
       "      <td>1.232388</td>\n",
       "      <td>0.875998</td>\n",
       "      <td>119.790498</td>\n",
       "      <td>4744.614648</td>\n",
       "      <td>1722.653697</td>\n",
       "      <td>686.170413</td>\n",
       "    </tr>\n",
       "    <tr>\n",
       "      <th>Box/Garagem</th>\n",
       "      <td>0.060976</td>\n",
       "      <td>1.304878</td>\n",
       "      <td>0.000000</td>\n",
       "      <td>17.524390</td>\n",
       "      <td>1899.756098</td>\n",
       "      <td>305.450000</td>\n",
       "      <td>125.846154</td>\n",
       "    </tr>\n",
       "    <tr>\n",
       "      <th>Casa</th>\n",
       "      <td>3.133402</td>\n",
       "      <td>1.795243</td>\n",
       "      <td>1.258532</td>\n",
       "      <td>250.578077</td>\n",
       "      <td>6793.454922</td>\n",
       "      <td>931.280952</td>\n",
       "      <td>1582.506394</td>\n",
       "    </tr>\n",
       "    <tr>\n",
       "      <th>Casa Comercial</th>\n",
       "      <td>1.562264</td>\n",
       "      <td>2.203774</td>\n",
       "      <td>0.260377</td>\n",
       "      <td>372.241509</td>\n",
       "      <td>14478.264151</td>\n",
       "      <td>1935.709677</td>\n",
       "      <td>1707.386740</td>\n",
       "    </tr>\n",
       "    <tr>\n",
       "      <th>Casa de Condomínio</th>\n",
       "      <td>4.007028</td>\n",
       "      <td>3.101406</td>\n",
       "      <td>2.864458</td>\n",
       "      <td>456.161647</td>\n",
       "      <td>11952.061245</td>\n",
       "      <td>1342.025527</td>\n",
       "      <td>3252.517730</td>\n",
       "    </tr>\n",
       "    <tr>\n",
       "      <th>Casa de Vila</th>\n",
       "      <td>1.927711</td>\n",
       "      <td>0.389558</td>\n",
       "      <td>0.228916</td>\n",
       "      <td>78.469880</td>\n",
       "      <td>1574.369478</td>\n",
       "      <td>138.768421</td>\n",
       "      <td>183.878788</td>\n",
       "    </tr>\n",
       "    <tr>\n",
       "      <th>Chácara</th>\n",
       "      <td>3.000000</td>\n",
       "      <td>0.000000</td>\n",
       "      <td>0.000000</td>\n",
       "      <td>0.000000</td>\n",
       "      <td>4900.000000</td>\n",
       "      <td>NaN</td>\n",
       "      <td>NaN</td>\n",
       "    </tr>\n",
       "    <tr>\n",
       "      <th>Conjunto Comercial/Sala</th>\n",
       "      <td>0.040939</td>\n",
       "      <td>2.516801</td>\n",
       "      <td>0.010858</td>\n",
       "      <td>214.472487</td>\n",
       "      <td>14715.045521</td>\n",
       "      <td>4512.218100</td>\n",
       "      <td>1399.596571</td>\n",
       "    </tr>\n",
       "    <tr>\n",
       "      <th>Flat</th>\n",
       "      <td>1.415966</td>\n",
       "      <td>0.962185</td>\n",
       "      <td>0.754202</td>\n",
       "      <td>65.483193</td>\n",
       "      <td>4546.189076</td>\n",
       "      <td>2027.720554</td>\n",
       "      <td>493.166667</td>\n",
       "    </tr>\n",
       "    <tr>\n",
       "      <th>Galpão/Depósito/Armazém</th>\n",
       "      <td>0.043339</td>\n",
       "      <td>5.587480</td>\n",
       "      <td>0.000000</td>\n",
       "      <td>2514.810594</td>\n",
       "      <td>53407.062600</td>\n",
       "      <td>10560.308824</td>\n",
       "      <td>5050.465241</td>\n",
       "    </tr>\n",
       "    <tr>\n",
       "      <th>Hotel</th>\n",
       "      <td>25.500000</td>\n",
       "      <td>2.500000</td>\n",
       "      <td>12.000000</td>\n",
       "      <td>885.500000</td>\n",
       "      <td>25000.000000</td>\n",
       "      <td>NaN</td>\n",
       "      <td>6202.000000</td>\n",
       "    </tr>\n",
       "    <tr>\n",
       "      <th>Indústria</th>\n",
       "      <td>0.000000</td>\n",
       "      <td>0.000000</td>\n",
       "      <td>0.000000</td>\n",
       "      <td>22.000000</td>\n",
       "      <td>120000.000000</td>\n",
       "      <td>NaN</td>\n",
       "      <td>NaN</td>\n",
       "    </tr>\n",
       "    <tr>\n",
       "      <th>Loft</th>\n",
       "      <td>1.117647</td>\n",
       "      <td>0.666667</td>\n",
       "      <td>0.372549</td>\n",
       "      <td>58.372549</td>\n",
       "      <td>2557.882353</td>\n",
       "      <td>869.239130</td>\n",
       "      <td>238.243243</td>\n",
       "    </tr>\n",
       "    <tr>\n",
       "      <th>Loja Shopping/ Ct Comercial</th>\n",
       "      <td>0.044534</td>\n",
       "      <td>6.874494</td>\n",
       "      <td>0.008097</td>\n",
       "      <td>88.109312</td>\n",
       "      <td>8126.178862</td>\n",
       "      <td>1790.109005</td>\n",
       "      <td>1052.415459</td>\n",
       "    </tr>\n",
       "    <tr>\n",
       "      <th>Loja/Salão</th>\n",
       "      <td>0.010519</td>\n",
       "      <td>1.217391</td>\n",
       "      <td>0.043478</td>\n",
       "      <td>228.852034</td>\n",
       "      <td>13769.646770</td>\n",
       "      <td>2605.601954</td>\n",
       "      <td>2670.331409</td>\n",
       "    </tr>\n",
       "    <tr>\n",
       "      <th>Loteamento/Condomínio</th>\n",
       "      <td>0.000000</td>\n",
       "      <td>0.000000</td>\n",
       "      <td>0.000000</td>\n",
       "      <td>2069.000000</td>\n",
       "      <td>22000.000000</td>\n",
       "      <td>NaN</td>\n",
       "      <td>4885.000000</td>\n",
       "    </tr>\n",
       "    <tr>\n",
       "      <th>Pousada/Chalé</th>\n",
       "      <td>23.000000</td>\n",
       "      <td>0.000000</td>\n",
       "      <td>23.000000</td>\n",
       "      <td>862.000000</td>\n",
       "      <td>1480.000000</td>\n",
       "      <td>295.000000</td>\n",
       "      <td>NaN</td>\n",
       "    </tr>\n",
       "    <tr>\n",
       "      <th>Prédio Inteiro</th>\n",
       "      <td>0.335548</td>\n",
       "      <td>11.199336</td>\n",
       "      <td>0.019934</td>\n",
       "      <td>1773.837209</td>\n",
       "      <td>498637.239203</td>\n",
       "      <td>55066.750000</td>\n",
       "      <td>165480.022472</td>\n",
       "    </tr>\n",
       "    <tr>\n",
       "      <th>Quitinete</th>\n",
       "      <td>0.834928</td>\n",
       "      <td>0.017943</td>\n",
       "      <td>0.037081</td>\n",
       "      <td>28.954545</td>\n",
       "      <td>1246.840909</td>\n",
       "      <td>427.341969</td>\n",
       "      <td>75.790741</td>\n",
       "    </tr>\n",
       "    <tr>\n",
       "      <th>Studio</th>\n",
       "      <td>0.500000</td>\n",
       "      <td>0.250000</td>\n",
       "      <td>0.000000</td>\n",
       "      <td>103.250000</td>\n",
       "      <td>2400.000000</td>\n",
       "      <td>549.000000</td>\n",
       "      <td>151.250000</td>\n",
       "    </tr>\n",
       "    <tr>\n",
       "      <th>Sítio</th>\n",
       "      <td>5.100000</td>\n",
       "      <td>1.000000</td>\n",
       "      <td>3.800000</td>\n",
       "      <td>15217.000000</td>\n",
       "      <td>12499.000000</td>\n",
       "      <td>NaN</td>\n",
       "      <td>5848.800000</td>\n",
       "    </tr>\n",
       "    <tr>\n",
       "      <th>Terreno Padrão</th>\n",
       "      <td>0.042857</td>\n",
       "      <td>0.057143</td>\n",
       "      <td>0.000000</td>\n",
       "      <td>5044.814286</td>\n",
       "      <td>32567.714286</td>\n",
       "      <td>1.000000</td>\n",
       "      <td>5138.170732</td>\n",
       "    </tr>\n",
       "  </tbody>\n",
       "</table>\n",
       "</div>"
      ],
      "text/plain": [
       "                               Quartos      Vagas     Suites          Area  \\\n",
       "Tipo                                                                         \n",
       "Apartamento                   2.481569   1.232388   0.875998    119.790498   \n",
       "Box/Garagem                   0.060976   1.304878   0.000000     17.524390   \n",
       "Casa                          3.133402   1.795243   1.258532    250.578077   \n",
       "Casa Comercial                1.562264   2.203774   0.260377    372.241509   \n",
       "Casa de Condomínio            4.007028   3.101406   2.864458    456.161647   \n",
       "Casa de Vila                  1.927711   0.389558   0.228916     78.469880   \n",
       "Chácara                       3.000000   0.000000   0.000000      0.000000   \n",
       "Conjunto Comercial/Sala       0.040939   2.516801   0.010858    214.472487   \n",
       "Flat                          1.415966   0.962185   0.754202     65.483193   \n",
       "Galpão/Depósito/Armazém       0.043339   5.587480   0.000000   2514.810594   \n",
       "Hotel                        25.500000   2.500000  12.000000    885.500000   \n",
       "Indústria                     0.000000   0.000000   0.000000     22.000000   \n",
       "Loft                          1.117647   0.666667   0.372549     58.372549   \n",
       "Loja Shopping/ Ct Comercial   0.044534   6.874494   0.008097     88.109312   \n",
       "Loja/Salão                    0.010519   1.217391   0.043478    228.852034   \n",
       "Loteamento/Condomínio         0.000000   0.000000   0.000000   2069.000000   \n",
       "Pousada/Chalé                23.000000   0.000000  23.000000    862.000000   \n",
       "Prédio Inteiro                0.335548  11.199336   0.019934   1773.837209   \n",
       "Quitinete                     0.834928   0.017943   0.037081     28.954545   \n",
       "Studio                        0.500000   0.250000   0.000000    103.250000   \n",
       "Sítio                         5.100000   1.000000   3.800000  15217.000000   \n",
       "Terreno Padrão                0.042857   0.057143   0.000000   5044.814286   \n",
       "\n",
       "                                     Valor    Condominio           IPTU  \n",
       "Tipo                                                                     \n",
       "Apartamento                    4744.614648   1722.653697     686.170413  \n",
       "Box/Garagem                    1899.756098    305.450000     125.846154  \n",
       "Casa                           6793.454922    931.280952    1582.506394  \n",
       "Casa Comercial                14478.264151   1935.709677    1707.386740  \n",
       "Casa de Condomínio            11952.061245   1342.025527    3252.517730  \n",
       "Casa de Vila                   1574.369478    138.768421     183.878788  \n",
       "Chácara                        4900.000000           NaN            NaN  \n",
       "Conjunto Comercial/Sala       14715.045521   4512.218100    1399.596571  \n",
       "Flat                           4546.189076   2027.720554     493.166667  \n",
       "Galpão/Depósito/Armazém       53407.062600  10560.308824    5050.465241  \n",
       "Hotel                         25000.000000           NaN    6202.000000  \n",
       "Indústria                    120000.000000           NaN            NaN  \n",
       "Loft                           2557.882353    869.239130     238.243243  \n",
       "Loja Shopping/ Ct Comercial    8126.178862   1790.109005    1052.415459  \n",
       "Loja/Salão                    13769.646770   2605.601954    2670.331409  \n",
       "Loteamento/Condomínio         22000.000000           NaN    4885.000000  \n",
       "Pousada/Chalé                  1480.000000    295.000000            NaN  \n",
       "Prédio Inteiro               498637.239203  55066.750000  165480.022472  \n",
       "Quitinete                      1246.840909    427.341969      75.790741  \n",
       "Studio                         2400.000000    549.000000     151.250000  \n",
       "Sítio                         12499.000000           NaN    5848.800000  \n",
       "Terreno Padrão                32567.714286      1.000000    5138.170732  "
      ]
     },
     "execution_count": 8,
     "metadata": {},
     "output_type": "execute_result"
    }
   ],
   "source": [
    "# O paramêtro do método mean indica que só será realizado a média para colunas numéricas\n",
    "dados_agrupados = dados.groupby('Tipo').mean(numeric_only=True)\n",
    "\n",
    "# Da mesma forma que o código acima, retorna a média, porém, de todas as colunas, onde cada linha representa a média de cada coluna, agrupados por tipo de imóvel\n",
    "dados_agrupados\n"
   ]
  },
  {
   "cell_type": "markdown",
   "metadata": {},
   "source": [
    "Porém queremos apenas responder a pergunta 1, para isto:\n",
    "\n",
    "É possível observar que temos 2 colunas úteis para essa pergunta:\n",
    "\n",
    "- Tipo\n",
    "- Valor"
   ]
  },
  {
   "cell_type": "code",
   "execution_count": 9,
   "metadata": {},
   "outputs": [
    {
     "data": {
      "text/plain": [
       "Tipo\n",
       "Apartamento                      4744.614648\n",
       "Box/Garagem                      1899.756098\n",
       "Casa                             6793.454922\n",
       "Casa Comercial                  14478.264151\n",
       "Casa de Condomínio              11952.061245\n",
       "Casa de Vila                     1574.369478\n",
       "Chácara                          4900.000000\n",
       "Conjunto Comercial/Sala         14715.045521\n",
       "Flat                             4546.189076\n",
       "Galpão/Depósito/Armazém         53407.062600\n",
       "Hotel                           25000.000000\n",
       "Indústria                      120000.000000\n",
       "Loft                             2557.882353\n",
       "Loja Shopping/ Ct Comercial      8126.178862\n",
       "Loja/Salão                      13769.646770\n",
       "Loteamento/Condomínio           22000.000000\n",
       "Pousada/Chalé                    1480.000000\n",
       "Prédio Inteiro                 498637.239203\n",
       "Quitinete                        1246.840909\n",
       "Studio                           2400.000000\n",
       "Sítio                           12499.000000\n",
       "Terreno Padrão                  32567.714286\n",
       "Name: Valor, dtype: float64"
      ]
     },
     "execution_count": 9,
     "metadata": {},
     "output_type": "execute_result"
    }
   ],
   "source": [
    "# Realiza o agrupamento dos dados pelo \"Tipo\" de imóvel\n",
    "dados_agrupados = dados.groupby(by='Tipo') # Também pose ser passado como paramêtro do by um array, exemplo: ['coluna1', 'coluna2']\n",
    "\n",
    "# Em seguida, adquire a coluna \"Valor\" e realiza a média\n",
    "media_valor_imoveis = dados_agrupados['Valor'].mean() # Aqui não precisamos do parametro \"numeric_only\", pois temos certeza que a coluna \"Valor\" é do tipo numérica\n",
    "\n",
    "media_valor_imoveis"
   ]
  },
  {
   "cell_type": "markdown",
   "metadata": {},
   "source": [
    "Também podemos ordenar os dados, da menor média para a maior média (ordem crescente)"
   ]
  },
  {
   "cell_type": "code",
   "execution_count": 10,
   "metadata": {},
   "outputs": [],
   "source": [
    "# Antes precisamos de transformar em um dataFrame, para isto, apenas colocamos 2 colchetes ao invés de 1\n",
    "media_valor_imoveis = dados_agrupados[['Valor']].mean()\n",
    "\n",
    "# Adicionamos como paramêtro da ordenação a coluna \"Valor\"\n",
    "media_valor_imoveis = media_valor_imoveis.sort_values(by='Valor', ascending=True) # podemos simplificar como: sort_values('Valor')"
   ]
  },
  {
   "cell_type": "markdown",
   "metadata": {},
   "source": [
    "Queremos visualizar o resultado de uma forma gráfica, então iremos plotar os dados das médias por imóveis"
   ]
  },
  {
   "cell_type": "code",
   "execution_count": 11,
   "metadata": {},
   "outputs": [
    {
     "data": {
      "text/plain": [
       "<Axes: ylabel='Tipo'>"
      ]
     },
     "execution_count": 11,
     "metadata": {},
     "output_type": "execute_result"
    },
    {
     "data": {
      "image/png": "[encoded data removed]",
      "text/plain": [
       "<Figure size 1400x1000 with 1 Axes>"
      ]
     },
     "metadata": {},
     "output_type": "display_data"
    }
   ],
   "source": [
    "# barh -> gráfico de barras horizontais\n",
    "# bar -> gráfico de barras verticais\n",
    "\n",
    "media_valor_imoveis.plot(\n",
    "    kind='barh',\n",
    "    figsize=(14,10), # Figsize ajusta o tamanho do gráfico\n",
    "    color = 'purple'\n",
    "    )"
   ]
  },
  {
   "cell_type": "markdown",
   "metadata": {},
   "source": [
    "O gráfico anterior contem dados dos imóveis comerciais, precisamos utilizar o dataset apenas com os imóveis residenciais.\n",
    "\n",
    "Já fizemos este tratamento lá em cima, então podemos apenas utilizar a variavel \"df\", que esta armazenada todos os imóveis residenciais."
   ]
  },
  {
   "cell_type": "code",
   "execution_count": 12,
   "metadata": {},
   "outputs": [
    {
     "data": {
      "text/html": [
       "<div>\n",
       "<style scoped>\n",
       "    .dataframe tbody tr th:only-of-type {\n",
       "        vertical-align: middle;\n",
       "    }\n",
       "\n",
       "    .dataframe tbody tr th {\n",
       "        vertical-align: top;\n",
       "    }\n",
       "\n",
       "    .dataframe thead th {\n",
       "        text-align: right;\n",
       "    }\n",
       "</style>\n",
       "<table border=\"1\" class=\"dataframe\">\n",
       "  <thead>\n",
       "    <tr style=\"text-align: right;\">\n",
       "      <th></th>\n",
       "      <th>Valor</th>\n",
       "    </tr>\n",
       "    <tr>\n",
       "      <th>Tipo</th>\n",
       "      <th></th>\n",
       "    </tr>\n",
       "  </thead>\n",
       "  <tbody>\n",
       "    <tr>\n",
       "      <th>Quitinete</th>\n",
       "      <td>1246.840909</td>\n",
       "    </tr>\n",
       "    <tr>\n",
       "      <th>Casa de Vila</th>\n",
       "      <td>1574.369478</td>\n",
       "    </tr>\n",
       "    <tr>\n",
       "      <th>Studio</th>\n",
       "      <td>2400.000000</td>\n",
       "    </tr>\n",
       "    <tr>\n",
       "      <th>Loft</th>\n",
       "      <td>2557.882353</td>\n",
       "    </tr>\n",
       "    <tr>\n",
       "      <th>Flat</th>\n",
       "      <td>4546.189076</td>\n",
       "    </tr>\n",
       "    <tr>\n",
       "      <th>Apartamento</th>\n",
       "      <td>4744.614648</td>\n",
       "    </tr>\n",
       "    <tr>\n",
       "      <th>Casa</th>\n",
       "      <td>6793.454922</td>\n",
       "    </tr>\n",
       "    <tr>\n",
       "      <th>Casa de Condomínio</th>\n",
       "      <td>11952.061245</td>\n",
       "    </tr>\n",
       "  </tbody>\n",
       "</table>\n",
       "</div>"
      ],
      "text/plain": [
       "                           Valor\n",
       "Tipo                            \n",
       "Quitinete            1246.840909\n",
       "Casa de Vila         1574.369478\n",
       "Studio               2400.000000\n",
       "Loft                 2557.882353\n",
       "Flat                 4546.189076\n",
       "Apartamento          4744.614648\n",
       "Casa                 6793.454922\n",
       "Casa de Condomínio  11952.061245"
      ]
     },
     "execution_count": 12,
     "metadata": {},
     "output_type": "execute_result"
    }
   ],
   "source": [
    "# Aqui faremos todo o processo do cálculo novamente, porém em poucas linhas\n",
    "\n",
    "media_valor_residencias = df.groupby('Tipo')[['Valor']].mean(numeric_only=True).sort_values('Valor')\n",
    "media_valor_residencias"
   ]
  },
  {
   "cell_type": "code",
   "execution_count": 13,
   "metadata": {},
   "outputs": [
    {
     "data": {
      "text/plain": [
       "<Axes: ylabel='Tipo'>"
      ]
     },
     "execution_count": 13,
     "metadata": {},
     "output_type": "execute_result"
    },
    {
     "data": {
      "image/png": "[encoded data removed]",
      "text/plain": [
       "<Figure size 640x480 with 1 Axes>"
      ]
     },
     "metadata": {},
     "output_type": "display_data"
    }
   ],
   "source": [
    "media_valor_residencias.plot(\n",
    "    kind='barh'\n",
    ")"
   ]
  },
  {
   "cell_type": "markdown",
   "metadata": {},
   "source": [
    "### Pergunta 2: Qual o percentual de cada tipo de imóvel na nossa base de dados?"
   ]
  },
  {
   "cell_type": "code",
   "execution_count": 14,
   "metadata": {},
   "outputs": [
    {
     "data": {
      "text/plain": [
       "array(['Quitinete', 'Casa', 'Apartamento', 'Casa de Condomínio', 'Flat',\n",
       "       'Casa de Vila', 'Loft', 'Studio'], dtype=object)"
      ]
     },
     "execution_count": 14,
     "metadata": {},
     "output_type": "execute_result"
    }
   ],
   "source": [
    "# Iremos utilizar a variavel \"df\", pois contem os dados apenas de imóveis residenciais\n",
    "df.Tipo.unique()"
   ]
  },
  {
   "cell_type": "code",
   "execution_count": 15,
   "metadata": {},
   "outputs": [
    {
     "data": {
      "text/plain": [
       "Tipo\n",
       "Apartamento           19532\n",
       "Casa de Condomínio      996\n",
       "Casa                    967\n",
       "Quitinete               836\n",
       "Flat                    476\n",
       "Casa de Vila            249\n",
       "Loft                     51\n",
       "Studio                    4\n",
       "Name: count, dtype: int64"
      ]
     },
     "execution_count": 15,
     "metadata": {},
     "output_type": "execute_result"
    }
   ],
   "source": [
    "# O value_counts sozinho irá retornar apenas o resultado númerico\n",
    "ocorrencias = df['Tipo'].value_counts() # Equivalente: df.groupby('Tipo')['Tipo'].value_counts()\n",
    "ocorrencias"
   ]
  },
  {
   "cell_type": "code",
   "execution_count": 16,
   "metadata": {},
   "outputs": [
    {
     "data": {
      "text/plain": [
       "Tipo\n",
       "Apartamento           0.845139\n",
       "Casa de Condomínio    0.043096\n",
       "Casa                  0.041842\n",
       "Quitinete             0.036173\n",
       "Flat                  0.020596\n",
       "Casa de Vila          0.010774\n",
       "Loft                  0.002207\n",
       "Studio                0.000173\n",
       "Name: proportion, dtype: float64"
      ]
     },
     "execution_count": 16,
     "metadata": {},
     "output_type": "execute_result"
    }
   ],
   "source": [
    "# O parametro normalize como True retorna os valores em percentual\n",
    "ocorrencias = df.Tipo.value_counts(normalize=True)\n",
    "ocorrencias"
   ]
  },
  {
   "cell_type": "code",
   "execution_count": 17,
   "metadata": {},
   "outputs": [
    {
     "data": {
      "text/html": [
       "<div>\n",
       "<style scoped>\n",
       "    .dataframe tbody tr th:only-of-type {\n",
       "        vertical-align: middle;\n",
       "    }\n",
       "\n",
       "    .dataframe tbody tr th {\n",
       "        vertical-align: top;\n",
       "    }\n",
       "\n",
       "    .dataframe thead th {\n",
       "        text-align: right;\n",
       "    }\n",
       "</style>\n",
       "<table border=\"1\" class=\"dataframe\">\n",
       "  <thead>\n",
       "    <tr style=\"text-align: right;\">\n",
       "      <th></th>\n",
       "      <th>proportion</th>\n",
       "    </tr>\n",
       "    <tr>\n",
       "      <th>Tipo</th>\n",
       "      <th></th>\n",
       "    </tr>\n",
       "  </thead>\n",
       "  <tbody>\n",
       "    <tr>\n",
       "      <th>Studio</th>\n",
       "      <td>0.000173</td>\n",
       "    </tr>\n",
       "    <tr>\n",
       "      <th>Loft</th>\n",
       "      <td>0.002207</td>\n",
       "    </tr>\n",
       "    <tr>\n",
       "      <th>Casa de Vila</th>\n",
       "      <td>0.010774</td>\n",
       "    </tr>\n",
       "    <tr>\n",
       "      <th>Flat</th>\n",
       "      <td>0.020596</td>\n",
       "    </tr>\n",
       "    <tr>\n",
       "      <th>Quitinete</th>\n",
       "      <td>0.036173</td>\n",
       "    </tr>\n",
       "    <tr>\n",
       "      <th>Casa</th>\n",
       "      <td>0.041842</td>\n",
       "    </tr>\n",
       "    <tr>\n",
       "      <th>Casa de Condomínio</th>\n",
       "      <td>0.043096</td>\n",
       "    </tr>\n",
       "    <tr>\n",
       "      <th>Apartamento</th>\n",
       "      <td>0.845139</td>\n",
       "    </tr>\n",
       "  </tbody>\n",
       "</table>\n",
       "</div>"
      ],
      "text/plain": [
       "                    proportion\n",
       "Tipo                          \n",
       "Studio                0.000173\n",
       "Loft                  0.002207\n",
       "Casa de Vila          0.010774\n",
       "Flat                  0.020596\n",
       "Quitinete             0.036173\n",
       "Casa                  0.041842\n",
       "Casa de Condomínio    0.043096\n",
       "Apartamento           0.845139"
      ]
     },
     "execution_count": 17,
     "metadata": {},
     "output_type": "execute_result"
    }
   ],
   "source": [
    "# to_frame converte a Series para um DataFrame\n",
    "# A coluna de valores proporcionais, quando no dataFrame, será nomeada automaticamente como \"proportion\"\n",
    "ocorrencias = ocorrencias.to_frame().sort_values('proportion')\n",
    "ocorrencias"
   ]
  },
  {
   "cell_type": "code",
   "execution_count": 18,
   "metadata": {},
   "outputs": [],
   "source": [
    "# Tudo na mesma linha ficaria:\n",
    "ocorrencias = df['Tipo'].value_counts(normalize=True).to_frame().sort_values('proportion')\n",
    "\n",
    "# Também podemos renomear a coluna proportion para outro nome, exemplo:\n",
    "ocorrencias.rename(columns={'proportion': 'Percentuais'}, inplace=True)"
   ]
  },
  {
   "cell_type": "code",
   "execution_count": 19,
   "metadata": {},
   "outputs": [
    {
     "data": {
      "text/plain": [
       "<Axes: xlabel='Tipo de Imóveis', ylabel='Ocorrencias (%)'>"
      ]
     },
     "execution_count": 19,
     "metadata": {},
     "output_type": "execute_result"
    },
    {
     "data": {
      "image/png": "[encoded data removed]",
      "text/plain": [
       "<Figure size 640x480 with 1 Axes>"
      ]
     },
     "metadata": {},
     "output_type": "display_data"
    }
   ],
   "source": [
    "# Visualização dos dados\n",
    "ocorrencias.plot(\n",
    "    kind='bar',\n",
    "    color = 'green',\n",
    "    xlabel='Tipo de Imóveis',\n",
    "    ylabel='Ocorrencias (%)'\n",
    ")"
   ]
  },
  {
   "cell_type": "markdown",
   "metadata": {},
   "source": [
    "### Selecionando apenas os imóveis do tipo do apartamento para passar ao time de ML"
   ]
  },
  {
   "cell_type": "code",
   "execution_count": 20,
   "metadata": {},
   "outputs": [
    {
     "data": {
      "text/html": [
       "<div>\n",
       "<style scoped>\n",
       "    .dataframe tbody tr th:only-of-type {\n",
       "        vertical-align: middle;\n",
       "    }\n",
       "\n",
       "    .dataframe tbody tr th {\n",
       "        vertical-align: top;\n",
       "    }\n",
       "\n",
       "    .dataframe thead th {\n",
       "        text-align: right;\n",
       "    }\n",
       "</style>\n",
       "<table border=\"1\" class=\"dataframe\">\n",
       "  <thead>\n",
       "    <tr style=\"text-align: right;\">\n",
       "      <th></th>\n",
       "      <th>Tipo</th>\n",
       "      <th>Bairro</th>\n",
       "      <th>Quartos</th>\n",
       "      <th>Vagas</th>\n",
       "      <th>Suites</th>\n",
       "      <th>Area</th>\n",
       "      <th>Valor</th>\n",
       "      <th>Condominio</th>\n",
       "      <th>IPTU</th>\n",
       "    </tr>\n",
       "  </thead>\n",
       "  <tbody>\n",
       "    <tr>\n",
       "      <th>3</th>\n",
       "      <td>Apartamento</td>\n",
       "      <td>Centro</td>\n",
       "      <td>1</td>\n",
       "      <td>0</td>\n",
       "      <td>0</td>\n",
       "      <td>15</td>\n",
       "      <td>800.0</td>\n",
       "      <td>390.0</td>\n",
       "      <td>20.0</td>\n",
       "    </tr>\n",
       "    <tr>\n",
       "      <th>4</th>\n",
       "      <td>Apartamento</td>\n",
       "      <td>Higienópolis</td>\n",
       "      <td>1</td>\n",
       "      <td>0</td>\n",
       "      <td>0</td>\n",
       "      <td>48</td>\n",
       "      <td>800.0</td>\n",
       "      <td>230.0</td>\n",
       "      <td>NaN</td>\n",
       "    </tr>\n",
       "    <tr>\n",
       "      <th>5</th>\n",
       "      <td>Apartamento</td>\n",
       "      <td>Vista Alegre</td>\n",
       "      <td>3</td>\n",
       "      <td>1</td>\n",
       "      <td>0</td>\n",
       "      <td>70</td>\n",
       "      <td>1200.0</td>\n",
       "      <td>NaN</td>\n",
       "      <td>NaN</td>\n",
       "    </tr>\n",
       "    <tr>\n",
       "      <th>6</th>\n",
       "      <td>Apartamento</td>\n",
       "      <td>Cachambi</td>\n",
       "      <td>2</td>\n",
       "      <td>0</td>\n",
       "      <td>0</td>\n",
       "      <td>50</td>\n",
       "      <td>1300.0</td>\n",
       "      <td>301.0</td>\n",
       "      <td>17.0</td>\n",
       "    </tr>\n",
       "    <tr>\n",
       "      <th>10</th>\n",
       "      <td>Apartamento</td>\n",
       "      <td>Centro</td>\n",
       "      <td>1</td>\n",
       "      <td>0</td>\n",
       "      <td>0</td>\n",
       "      <td>36</td>\n",
       "      <td>1200.0</td>\n",
       "      <td>NaN</td>\n",
       "      <td>NaN</td>\n",
       "    </tr>\n",
       "  </tbody>\n",
       "</table>\n",
       "</div>"
      ],
      "text/plain": [
       "           Tipo        Bairro  Quartos  Vagas  Suites  Area   Valor  \\\n",
       "3   Apartamento        Centro        1      0       0    15   800.0   \n",
       "4   Apartamento  Higienópolis        1      0       0    48   800.0   \n",
       "5   Apartamento  Vista Alegre        3      1       0    70  1200.0   \n",
       "6   Apartamento      Cachambi        2      0       0    50  1300.0   \n",
       "10  Apartamento        Centro        1      0       0    36  1200.0   \n",
       "\n",
       "    Condominio  IPTU  \n",
       "3        390.0  20.0  \n",
       "4        230.0   NaN  \n",
       "5          NaN   NaN  \n",
       "6        301.0  17.0  \n",
       "10         NaN   NaN  "
      ]
     },
     "execution_count": 20,
     "metadata": {},
     "output_type": "execute_result"
    }
   ],
   "source": [
    "df = df.query('Tipo == \"Apartamento\"')\n",
    "df.head()"
   ]
  },
  {
   "cell_type": "code",
   "execution_count": 21,
   "metadata": {},
   "outputs": [],
   "source": [
    "# Cria um novo dataset, porém sem replicar os índices\n",
    "df.to_csv('aluguel_apartamentos.csv', index=False) "
   ]
  }
 ],
 "metadata": {
  "kernelspec": {
   "display_name": "Python 3",
   "language": "python",
   "name": "python3"
  },
  "language_info": {
   "codemirror_mode": {
    "name": "ipython",
    "version": 3
   },
   "file_extension": ".py",
   "mimetype": "text/x-python",
   "name": "python",
   "nbconvert_exporter": "python",
   "pygments_lexer": "ipython3",
   "version": "3.10.10"
  }
 },
 "nbformat": 4,
 "nbformat_minor": 2
}
