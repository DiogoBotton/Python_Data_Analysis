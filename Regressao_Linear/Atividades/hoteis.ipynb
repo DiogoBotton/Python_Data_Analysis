{
 "cells": [
  {
   "cell_type": "markdown",
   "metadata": {},
   "source": [
    "**Como pessoa Cientista de Dados, você está encarregada pela análise do problema de precificação de quartos de hotéis, fazendo uso do conjunto de dados fornecidos. (hoteis.csv)**\n",
    "\n",
    "Nesta atividade, sua tarefa envolve conduzir as seguintes etapas:\n",
    "\n",
    "- Análise inicial com o PairPlot da Seaborn;\n",
    "- Construir modelos de regressão linear;\n",
    "- Realizar a comparação desses modelos."
   ]
  }
 ],
 "metadata": {
  "language_info": {
   "name": "python"
  }
 },
 "nbformat": 4,
 "nbformat_minor": 2
}
